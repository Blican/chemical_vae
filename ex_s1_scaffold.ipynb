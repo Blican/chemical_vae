{
  "cells": [
    {
      "cell_type": "markdown",
      "metadata": {
        "id": "view-in-github",
        "colab_type": "text"
      },
      "source": [
        "<a href=\"https://colab.research.google.com/github/Blican/chemical_vae/blob/main/ex_s1_scaffold.ipynb\" target=\"_parent\"><img src=\"https://colab.research.google.com/assets/colab-badge.svg\" alt=\"Open In Colab\"/></a>"
      ]
    },
    {
      "cell_type": "markdown",
      "id": "99364633",
      "metadata": {
        "id": "99364633"
      },
      "source": [
        "## Run this notebook on colab or your local system\n",
        "<a href=\"https://drive.google.com/file/d/1Htc10QCoMR4FzGK2jCpND5MM8H5bZQaw/view?usp=sharing\" target=\"_blank\" >\n",
        "  <img src=\"https://colab.research.google.com/assets/colab-badge.svg\" alt=\"Open In Colab\"/>"
      ]
    },
    {
      "cell_type": "code",
      "source": [
        "!pip install neurodiffeq"
      ],
      "metadata": {
        "id": "1GghxUxLrJ_i"
      },
      "id": "1GghxUxLrJ_i",
      "execution_count": null,
      "outputs": []
    },
    {
      "cell_type": "code",
      "source": [
        "# Setup for saving to hub\n",
        "import os\n",
        "os.environ[\"DEV\"] = \"1\"\n",
        "os.environ[\"NEURODIFF_API_KEY\"] = '123' #Your API Key that you can get from visiting your 'Profile' page."
      ],
      "metadata": {
        "id": "OxdgrYvawcCL"
      },
      "id": "OxdgrYvawcCL",
      "execution_count": null,
      "outputs": []
    },
    {
      "cell_type": "code",
      "execution_count": null,
      "id": "41d8d610",
      "metadata": {
        "id": "41d8d610"
      },
      "outputs": [],
      "source": [
        "# Import necessary libraries\n",
        "import numpy as np\n",
        "import matplotlib.pyplot as plt\n",
        "from neurodiffeq import diff\n",
        "from neurodiffeq.solvers import Solver1D, Solver2D\n",
        "from neurodiffeq.conditions import IVP, DirichletBVP2D\n",
        "from neurodiffeq.networks import FCNN, SinActv"
      ]
    },
    {
      "cell_type": "code",
      "execution_count": null,
      "id": "8d2fa1dc",
      "metadata": {
        "id": "8d2fa1dc"
      },
      "outputs": [],
      "source": [
        "# import warnings\n",
        "# warnings.filterwarnings(\"ignore\")\n",
        "from cycler import cycler\n",
        "import matplotlib.pyplot as plt\n",
        "large = 24; medium = 18; small = 12\n",
        "params = {'axes.titlesize': medium,\n",
        "          'legend.fontsize': small,\n",
        "          'figure.figsize': (8, 8),\n",
        "          'axes.labelsize': small,\n",
        "          'axes.linewidth': 2,\n",
        "          'xtick.labelsize': small,\n",
        "          'xtick.color' : '#1D1717',\n",
        "          'ytick.color' : '#1D1717',\n",
        "          'ytick.labelsize': small,\n",
        "          'axes.edgecolor':'#1D1717',\n",
        "          'figure.titlesize': medium,\n",
        "          'axes.prop_cycle': cycler(color = ['#66bb6a','#558ed5','#dd6a63','dcd0ff','#ffa726']),}\n",
        "plt.rcParams.update(params)\n",
        "%matplotlib inline"
      ]
    },
    {
      "cell_type": "code",
      "execution_count": null,
      "id": "3c6f2795",
      "metadata": {
        "id": "3c6f2795"
      },
      "outputs": [],
      "source": [
        "# Define a function that returns the given differential equation in standard form\n",
        "def f(x,y):\n",
        "    ____"
      ]
    },
    {
      "cell_type": "code",
      "execution_count": null,
      "id": "470aa10d",
      "metadata": {
        "id": "470aa10d"
      },
      "outputs": [],
      "source": [
        "# Initialize the given initial conditions\n",
        "x_0 = __\n",
        "y_0 = __"
      ]
    },
    {
      "cell_type": "code",
      "execution_count": null,
      "id": "16805e73",
      "metadata": {
        "id": "16805e73"
      },
      "outputs": [],
      "source": [
        "# Define h(step_size) and n(Number of steps) for Euler's approximation\n",
        "h = __\n",
        "n = __"
      ]
    },
    {
      "cell_type": "code",
      "execution_count": null,
      "id": "0181480f",
      "metadata": {
        "id": "0181480f"
      },
      "outputs": [],
      "source": [
        "# Initialize an array x having values from x_0 to x_n\n",
        "x = _____"
      ]
    },
    {
      "cell_type": "code",
      "execution_count": null,
      "id": "74869a17",
      "metadata": {
        "id": "74869a17"
      },
      "outputs": [],
      "source": [
        "# Use Euler's Approximation and find y_eul\n",
        "y_eul = _____\n",
        "y_eul[0] = _____\n",
        "\n",
        "for i in range(___):\n",
        "    y_eul[i] = _____"
      ]
    },
    {
      "cell_type": "code",
      "execution_count": null,
      "id": "0fea7838",
      "metadata": {
        "id": "0fea7838"
      },
      "outputs": [],
      "source": [
        "# Use a line plot for plotting a graphof solution obtained from Euler's Approximation.\n",
        "plt.plot(___, ____, label=\"Euler's Approximnation\")\n",
        "\n",
        "# Add axis labels and legend for clarity\n",
        "plt.xlabel(\"x\")\n",
        "plt.ylabel(\"y\")\n",
        "plt.legend()\n",
        "plt.show()"
      ]
    },
    {
      "cell_type": "code",
      "execution_count": null,
      "id": "bc94df90",
      "metadata": {
        "id": "bc94df90"
      },
      "outputs": [],
      "source": [
        "# Use Method of Integrating Factors and find y_moi\n",
        "C = _____\n",
        "y_moi = ____"
      ]
    },
    {
      "cell_type": "code",
      "execution_count": null,
      "id": "369ba5f4",
      "metadata": {
        "id": "369ba5f4"
      },
      "outputs": [],
      "source": [
        "# Use a line plot for plotting a graph of solution obtained from Method of Integrating Factors\n",
        "plt.plot(____, ____, label=\"Method of Integrating Factors\")\n",
        "\n",
        "# Add axis labels and legend for clarity\n",
        "plt.xlabel(\"x\")\n",
        "plt.ylabel(\"y\")\n",
        "plt.legend()\n",
        "plt.show()"
      ]
    },
    {
      "cell_type": "code",
      "execution_count": null,
      "id": "c9075062",
      "metadata": {
        "id": "c9075062"
      },
      "outputs": [],
      "source": [
        "# Define a function that returns differential equation\n",
        "def ode(u, t):\n",
        "    ____"
      ]
    },
    {
      "cell_type": "code",
      "execution_count": null,
      "id": "3b1fdaaf",
      "metadata": {
        "id": "3b1fdaaf"
      },
      "outputs": [],
      "source": [
        "# Initialize the given initial conditions\n",
        "initial_conditions = [____]"
      ]
    },
    {
      "cell_type": "code",
      "execution_count": null,
      "id": "d693c8ec",
      "metadata": {
        "id": "d693c8ec"
      },
      "outputs": [],
      "source": [
        "# Initialize Solver1D\n",
        "solver = Solver1D(ode_system = ____,\n",
        "                  conditions=____,\n",
        "                  t_min=____,\n",
        "                  t_max=____)"
      ]
    },
    {
      "cell_type": "code",
      "execution_count": null,
      "id": "6953b360",
      "metadata": {
        "id": "6953b360"
      },
      "outputs": [],
      "source": [
        "# Fit the solver for 100 epochs\n",
        "____"
      ]
    },
    {
      "cell_type": "code",
      "execution_count": null,
      "id": "f47b31cb",
      "metadata": {
        "id": "f47b31cb"
      },
      "outputs": [],
      "source": [
        "# Obtain the solution by calling get_solution() method of solver\n",
        "y_sol = _____"
      ]
    },
    {
      "cell_type": "code",
      "execution_count": null,
      "id": "ae4b9c8a",
      "metadata": {
        "id": "ae4b9c8a"
      },
      "outputs": [],
      "source": [
        "# Use a line plot for plotting a graph of solution obtained from Neurodiffeq.\n",
        "plt.plot(____, ____, label=\"Neurodiffeq\")\n",
        "\n",
        "# Add axis labels and legend for clarity\n",
        "plt.xlabel(\"x\")\n",
        "plt.ylabel(\"y\")\n",
        "plt.legend()\n",
        "plt.show()"
      ]
    },
    {
      "cell_type": "code",
      "execution_count": null,
      "id": "fb7405c1",
      "metadata": {
        "id": "fb7405c1"
      },
      "outputs": [],
      "source": [
        "# Use a scatter plot for plotting all the solutions in the same graph.\n",
        "plt.scatter(____,_____, label=\"Euler's Approximnation\", s=0.3)\n",
        "plt.scatter(____,_____, label = \"Method of Integrating Factors\", s = 0.3)\n",
        "plt.scatter(____,_____, label = \"Neurodiffeq\", s = 0.3)\n",
        "\n",
        "# Add axis labels and legend for clarity\n",
        "plt.xlabel(\"x\")\n",
        "plt.ylabel(\"y\")\n",
        "plt.legend()\n",
        "plt.show()"
      ]
    }
  ],
  "metadata": {
    "kernelspec": {
      "display_name": "Python 3 (ipykernel)",
      "language": "python",
      "name": "python3"
    },
    "language_info": {
      "codemirror_mode": {
        "name": "ipython",
        "version": 3
      },
      "file_extension": ".py",
      "mimetype": "text/x-python",
      "name": "python",
      "nbconvert_exporter": "python",
      "pygments_lexer": "ipython3",
      "version": "3.9.16"
    },
    "colab": {
      "provenance": [],
      "include_colab_link": true
    }
  },
  "nbformat": 4,
  "nbformat_minor": 5
}